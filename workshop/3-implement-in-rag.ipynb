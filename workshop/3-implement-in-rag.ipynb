{
 "cells": [
  {
   "cell_type": "markdown",
   "metadata": {},
   "source": [
    "# Implementing our RAG Application\n",
    "\n",
    "We've walked through the process of ingesting our data. Now we want to setup our search application.\n",
    "\n",
    "There are multiple ways of implementing search that we won't be addressing in this workshop.\n",
    "\n",
    "We're going to implement a similarity search. We can choose to use the OpenSearch®️ SDK or we can use LangChain."
   ]
  },
  {
   "cell_type": "markdown",
   "metadata": {},
   "source": [
    "## Similarity Search with Langchain\n",
    "\n",
    "LangChain allows us to connect our existing configurations across our platform to ensure that we settings are consistent. This is paramount to the success of your similarity search in that if you're search parameters differ from the values you selected to load data from, you can run into some issues.\n",
    "\n",
    "LangChain gives us the ability to access a [preexisting OpenSearch instance](https://python.langchain.com/docs/integrations/vectorstores/opensearch/#using-a-preexisting-opensearch-instance)."
   ]
  },
  {
   "cell_type": "code",
   "execution_count": 53,
   "metadata": {},
   "outputs": [
    {
     "name": "stderr",
     "output_type": "stream",
     "text": [
      "/Users/jay.miller/preparing-data-for-opensearch-and-rag/.venv/lib/python3.12/site-packages/huggingface_hub/file_download.py:1132: FutureWarning: `resume_download` is deprecated and will be removed in version 1.0.0. Downloads always resume when possible. If you want to force a new download, use `force_download=True`.\n",
      "  warnings.warn(\n"
     ]
    },
    {
     "name": "stdout",
     "output_type": "stream",
     "text": [
      "('. Boy, how do you do? I feel you on this ever since I started just having a '\n",
      " 'single page to write down what actually gets done and crossing it off, even '\n",
      " \"if it doesn't get on the list until after I've done something. It's helped \"\n",
      " \"me realize and recognize how much I'm actually getting done\")\n"
     ]
    }
   ],
   "source": [
    "import os\n",
    "from pprint import pprint\n",
    "\n",
    "from dotenv import load_dotenv\n",
    "from langchain_community.embeddings import HuggingFaceEmbeddings\n",
    "from langchain_community.vectorstores import OpenSearchVectorSearch\n",
    "\n",
    "load_dotenv()\n",
    "\n",
    "embeddings = HuggingFaceEmbeddings()\n",
    "vector_search = OpenSearchVectorSearch(\n",
    "    index_name=os.getenv(\"INDEX_NAME\"),\n",
    "    embedding_function=embeddings,\n",
    "    opensearch_url=os.getenv(\"OPENSEARCH_SERVICE_URI\"),\n",
    ")\n",
    "\n",
    "query = \"How can I be productive\"\n",
    "\n",
    "results = vector_search.similarity_search(\n",
    "    query,\n",
    "    vector_field=\"content_vector\",\n",
    "    text_field=\"content\",\n",
    "    metadata_field=\"*\",\n",
    ")\n",
    "\n",
    "pprint(results[0].page_content)"
   ]
  },
  {
   "cell_type": "code",
   "execution_count": 21,
   "metadata": {},
   "outputs": [
    {
     "name": "stdout",
     "output_type": "stream",
     "text": [
      "The art of setting boundaries and saying no! It's a crucial skill to master, especially in today's fast-paced world where everyone wants a piece of your time and attention.\n",
      "\n",
      "Firstly, remember that saying no is not about being selfish or rude. It's about taking care of yourself and prioritizing what's truly important to you. As I've learned, most people are happy to respect your boundaries once they're explicitly communicated. So, don't be afraid to verbalize what you need or don't want from others.\n",
      "\n",
      "To set effective boundaries, identify the limits you want to establish and communicate them clearly. For example, if you have a meeting on Wednesday, say no to social invitations that conflict with it. And remember, exceptions are okay! Life is unpredictable, and sometimes things come up that require adjustments to your plans.\n",
      "\n",
      "Here's another tip: create a buffer period before committing to anything new. Give yourself time to think about whether the request aligns with your priorities and values. This simple rule – \"I won't say yes until I've thought about it\" – can help you avoid overcommitting and reduce stress in your life.\n",
      "\n",
      "Lastly, be kind to yourself as you work on saying no. It's a muscle that takes time to develop, and it's okay to make mistakes along the way. Remember, saying no means saying yes to yourself and your own well-being. So, go ahead and celebrate your small victories – like taking a few minutes for yourself each day or passing up an invitation that doesn't align with your goals.\n",
      "\n",
      "Remember, setting boundaries and saying no is not about being selfish; it's about being intentional with your time and energy. By doing so, you're making space for what truly matters in your life. Keep working on it, and you'll be proud of yourself too!\n"
     ]
    }
   ],
   "source": [
    "from langchain_community.chat_models import ChatOllama\n",
    "from langchain_core.output_parsers import StrOutputParser\n",
    "from langchain_core.prompts import ChatPromptTemplate\n",
    "\n",
    "llm = ChatOllama(model=\"llama3\")\n",
    "prompt = ChatPromptTemplate.from_template(\"\"\"\n",
    "        Offer supportive advice for the question {query} with supporting quotes from \n",
    "        \"{docs}\".\n",
    "                                          \n",
    "        Don't include quotes from other sources.\n",
    "\"\"\")\n",
    "\n",
    "chain = prompt | llm | StrOutputParser()\n",
    "\n",
    "print(chain.invoke({\"query\": query, \"docs\": \"\\n\".join([result.page_content for result in results])}))\n",
    "print(\"-------------------\")\n",
    "print(f'Here are some episodes that might help you with \"{query}\":')\n",
    "episodes = set()\n",
    "for result in results:\n",
    "    episodes.add(f\"{result.metadata[\"title\"]} - {result.metadata[\"url\"]}\")\n",
    "print(\"\\n\".join(episodes))"
   ]
  },
  {
   "cell_type": "markdown",
   "metadata": {},
   "source": [
    "This is good but we probably don't want to use Ollama in our production environment. Let look at how easy it is to use a different model.\n",
    "\n",
    "> NOTE: ⚠️ The next block uses the OpenAI API which cannot be used without an API key which you will need to pay for."
   ]
  },
  {
   "cell_type": "code",
   "execution_count": 55,
   "metadata": {},
   "outputs": [
    {
     "name": "stdout",
     "output_type": "stream",
     "text": [
      "To be productive, it's important to prioritize and focus on what truly matters. One helpful strategy is to create a daily to-do list and cross off tasks as you complete them. This can help you stay organized and motivated. As one person mentioned, \"ever since I started just having a single page to write down what actually gets done and crossing it off, even if it doesn't get on the list until after I've done something. It's helped me realize and recognize how much I'm actually getting done.\"\n",
      "\n",
      "Setting boundaries with others is also crucial for productivity. Learn to say no to interruptions that are not urgent or important during your peak focus times. As another person shared, \"I need to set boundaries for others as I'm constantly interrupted in the depths of my work or high focus times with things that are not urgent.\"\n",
      "\n",
      "When it comes to dealing with external factors like other people, it's essential to find a balance between being helpful and protecting your own time and focus. As mentioned, \"how do you handle dealing with other people when it comes to your personal productivity? This is where my people-pleasing self-control lack of self-control.\"\n",
      "\n",
      "Remember, external factors like interruptions can impact your productivity. It's important to address them proactively. As one person highlighted, \"external factors and how to handle and prevent them from putting your productivity at risk. And can we just start with probably the biggest external factor, which is other people?\" \n",
      "\n",
      "By implementing these strategies and being mindful of how external factors can influence your productivity, you can work towards being more efficient and achieving your goals.\n",
      "-------------------\n",
      "Here are some episodes that might help you with How can I be productive:\n",
      "18: Putting External Factors in a VICE Grip 🗜 - https://relay.fm/conduit/18\n"
     ]
    }
   ],
   "source": [
    "from langchain_openai import ChatOpenAI\n",
    "from langchain_core.output_parsers import StrOutputParser\n",
    "from langchain_core.prompts import ChatPromptTemplate\n",
    "\n",
    "load_dotenv()\n",
    "\n",
    "llm = ChatOpenAI()\n",
    "prompt = ChatPromptTemplate.from_messages([\n",
    "    (\"system\",\n",
    "     \"\"\"Offer supportive advice for the question {query} with supporting quotes from \n",
    "     ---\n",
    "     {docs}\n",
    "     ---\n",
    "     Wrap quotes in quotation marks. Don't include quotes from other sources.\n",
    "     If there are no documents to quote, say \\\"I don't have any information on that.\\\"\"\"\")\n",
    "    ,\n",
    "    (\"user\",\n",
    "     \"{query}\"),\n",
    "])\n",
    "\n",
    "chain = prompt | llm | StrOutputParser()\n",
    "\n",
    "print(chain.invoke({\"query\": query, \"docs\": \"\\n\".join([result.page_content for result in results])}))\n",
    "print(\"-------------------\")\n",
    "print(f'Here are some episodes that might help you with \"{query}\":')\n",
    "episodes = set()\n",
    "for result in results:\n",
    "    episodes.add(f\"{result.metadata[\"title\"]} - {result.metadata[\"url\"]}\")\n",
    "print(\"\\n\".join(episodes))"
   ]
  }
 ],
 "metadata": {
  "kernelspec": {
   "display_name": "Python 3",
   "language": "python",
   "name": "python3"
  },
  "language_info": {
   "codemirror_mode": {
    "name": "ipython",
    "version": 3
   },
   "file_extension": ".py",
   "mimetype": "text/x-python",
   "name": "python",
   "nbconvert_exporter": "python",
   "pygments_lexer": "ipython3",
   "version": "3.12.2"
  }
 },
 "nbformat": 4,
 "nbformat_minor": 2
}
