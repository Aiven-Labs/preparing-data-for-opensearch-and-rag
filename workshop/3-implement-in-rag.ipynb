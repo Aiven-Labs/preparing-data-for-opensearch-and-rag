{
 "cells": [
  {
   "cell_type": "markdown",
   "metadata": {},
   "source": [
    "# Implementing our RAG Application\n",
    "\n",
    "We've walked through the process of ingesting our data. Now we want to setup our search application.\n",
    "\n",
    "There are multiple ways of implementing search that we won't be addressing in this workshop.\n",
    "\n",
    "We're going to implement a similarity search. We can choose to use the OpenSearch®️ SDK or we can use LangChain."
   ]
  },
  {
   "cell_type": "markdown",
   "metadata": {},
   "source": [
    "## Similarity Search with Langchain\n",
    "\n",
    "LangChain allows us to connect our existing configurations across our platform to ensure that we settings are consistent. This is paramount to the success of your similarity search in that if you're search parameters differ from the values you selected to load data from, you can run into some issues.\n",
    "\n",
    "LangChain gives us the ability to access a [preexisting OpenSearch instance](https://python.langchain.com/docs/integrations/vectorstores/opensearch/#using-a-preexisting-opensearch-instance)."
   ]
  },
  {
   "cell_type": "code",
   "execution_count": 1,
   "metadata": {},
   "outputs": [
    {
     "name": "stderr",
     "output_type": "stream",
     "text": [
      "/Users/jay.miller/preparing-data-for-opensearch-and-rag/.venv/lib/python3.12/site-packages/huggingface_hub/file_download.py:1132: FutureWarning: `resume_download` is deprecated and will be removed in version 1.0.0. Downloads always resume when possible. If you want to force a new download, use `force_download=True`.\n",
      "  warnings.warn(\n",
      "/Users/jay.miller/preparing-data-for-opensearch-and-rag/.venv/lib/python3.12/site-packages/huggingface_hub/file_download.py:1132: FutureWarning: `resume_download` is deprecated and will be removed in version 1.0.0. Downloads always resume when possible. If you want to force a new download, use `force_download=True`.\n",
      "  warnings.warn(\n"
     ]
    },
    {
     "name": "stdout",
     "output_type": "stream",
     "text": [
      "('. Boy, how do you do? I feel you on this ever since I started just having a '\n",
      " 'single page to write down what actually gets done and crossing it off, even '\n",
      " \"if it doesn't get on the list until after I've done something. It's helped \"\n",
      " \"me realize and recognize how much I'm actually getting done\")\n"
     ]
    }
   ],
   "source": [
    "import os\n",
    "from pprint import pprint\n",
    "\n",
    "from dotenv import load_dotenv\n",
    "from langchain_community.embeddings import HuggingFaceEmbeddings\n",
    "from langchain_community.vectorstores import OpenSearchVectorSearch\n",
    "\n",
    "load_dotenv()\n",
    "\n",
    "embeddings = HuggingFaceEmbeddings()\n",
    "vector_search = OpenSearchVectorSearch(\n",
    "    index_name=os.getenv(\"INDEX_NAME\"),\n",
    "    embedding_function=embeddings,\n",
    "    opensearch_url=os.getenv(\"OPENSEARCH_SERVICE_URI\"),\n",
    ")\n",
    "\n",
    "query = \"How can I be productive\"\n",
    "\n",
    "results = vector_search.similarity_search(\n",
    "    query,\n",
    "    vector_field=\"content_vector\",\n",
    "    text_field=\"content\",\n",
    "    metadata_field=\"*\",\n",
    ")\n",
    "\n",
    "pprint(results[0].page_content)"
   ]
  },
  {
   "cell_type": "code",
   "execution_count": 2,
   "metadata": {},
   "outputs": [
    {
     "name": "stdout",
     "output_type": "stream",
     "text": [
      "Here's some supportive advice on how to be productive while dealing with others:\n",
      "\n",
      "Firstly, recognizing your strengths and accomplishments, as you mentioned, is a great step towards boosting your productivity. By keeping track of what you've achieved, you can gain confidence and motivation to tackle more tasks.\n",
      "\n",
      "To set boundaries with others and maintain your focus during high-productivity periods, consider the following strategies:\n",
      "\n",
      "1. **Communicate your needs**: Let others know when you're in a focused work mode and prefer minimal interruptions. You can say something like, \"I'm on a deadline for this project, so I'd appreciate it if we could touch base later.\"\n",
      "2. **Schedule breaks**: Plan regular breaks to recharge and respond to messages or calls from others. This way, you'll be more present and energized during your focused work sessions.\n",
      "3. **Establish routines**: Develop consistent routines for checking emails, taking phone calls, or meeting with others. This can help you avoid constant interruptions and maintain a sense of control over your time.\n",
      "4. **Practice assertive responses**: When someone interrupts you, politely but firmly respond by saying, \"I'm in the middle of something important right now. Can we schedule a call for later?\" or \"I'd love to chat with you after I finish this task.\"\n",
      "5. **Set boundaries proactively**: Anticipate situations where you might be interrupted and prepare for them. For example, if someone always tries to discuss personal matters during your work hours, let them know that you're available for chats at specific times only.\n",
      "6. **Reward yourself**: Celebrate small victories by doing something you enjoy or taking a short break after completing tasks. This will help you stay motivated and energized throughout the day.\n",
      "\n",
      "Remember, setting boundaries with others is not about being rude or uncooperative; it's about respecting your own time and energy. By prioritizing your productivity and well-being, you'll become more efficient, effective, and happy in the long run!\n",
      "-------------------\n",
      "Here are some episodes that might help you with \"How can I be productive\":\n",
      "18: Putting External Factors in a VICE Grip 🗜 - https://relay.fm/conduit/18\n"
     ]
    }
   ],
   "source": [
    "from langchain_community.chat_models import ChatOllama\n",
    "from langchain_core.output_parsers import StrOutputParser\n",
    "from langchain_core.prompts import ChatPromptTemplate\n",
    "\n",
    "llm = ChatOllama(model=\"llama3\")\n",
    "prompt = ChatPromptTemplate.from_template(\"\"\"\n",
    "        Offer supportive advice for the question {query} with supporting quotes from \n",
    "        \"{docs}\".\n",
    "                                          \n",
    "        Don't include quotes from other sources.\n",
    "\"\"\")\n",
    "\n",
    "chain = prompt | llm | StrOutputParser()\n",
    "\n",
    "print(chain.invoke({\"query\": query, \"docs\": \"\\n\".join([result.page_content for result in results])}))\n",
    "print(\"-------------------\")\n",
    "print(f'Here are some episodes that might help you with \"{query}\":')\n",
    "episodes = set()\n",
    "for result in results:\n",
    "    episodes.add(f\"{result.metadata[\"title\"]} - {result.metadata[\"url\"]}\")\n",
    "print(\"\\n\".join(episodes))"
   ]
  },
  {
   "cell_type": "markdown",
   "metadata": {},
   "source": [
    "This is good but we probably don't want to use Ollama in our production environment. Let look at how easy it is to use a different model.\n",
    "\n",
    "> NOTE: ⚠️ The next block uses the OpenAI API which cannot be used without an API key which you will need to pay for."
   ]
  },
  {
   "cell_type": "code",
   "execution_count": 3,
   "metadata": {},
   "outputs": [
    {
     "name": "stdout",
     "output_type": "stream",
     "text": [
      "To be productive, it's essential to have a clear plan and track your progress. Start by creating a to-do list and prioritize tasks. As you complete each item, cross it off to see your accomplishments. As mentioned, \"having a single page to write down what actually gets done and crossing it off\" can help you stay focused and motivated.\n",
      "\n",
      "Setting boundaries with others is also crucial. Learn to say no to non-urgent interruptions during your high-focus times. As one person shared, \"I need to set boundaries for others as I'm constantly interrupted in the depths of my work or high focus times with things that are not urgent.\" Remember, it's okay to prioritize your own productivity.\n",
      "\n",
      "Dealing with external factors, especially other people, can be challenging for productivity. Find a balance between helping others and protecting your focus. As mentioned, \"how do you handle dealing with other people when it comes to your personal productivity?\" Don't let people-pleasing tendencies hinder your own progress.\n",
      "\n",
      "In conclusion, stay organized, set boundaries, and prioritize your tasks to enhance your productivity. Remember, you have the power to control external factors and maintain your focus.\n",
      "-------------------\n",
      "Here are some episodes that might help you with \"How can I be productive\":\n",
      "18: Putting External Factors in a VICE Grip 🗜 - https://relay.fm/conduit/18\n"
     ]
    }
   ],
   "source": [
    "from langchain_openai import ChatOpenAI\n",
    "from langchain_core.output_parsers import StrOutputParser\n",
    "from langchain_core.prompts import ChatPromptTemplate\n",
    "\n",
    "load_dotenv()\n",
    "\n",
    "llm = ChatOpenAI()\n",
    "prompt = ChatPromptTemplate.from_messages([\n",
    "    (\"system\",\n",
    "     \"\"\"Offer supportive advice for the question {query} with supporting quotes from \n",
    "     ---\n",
    "     {docs}\n",
    "     ---\n",
    "     Wrap quotes in quotation marks. Don't include quotes from other sources.\n",
    "     If there are no documents to quote, say \\\"I don't have any information on that.\\\"\"\"\")\n",
    "    ,\n",
    "    (\"user\",\n",
    "     \"{query}\"),\n",
    "])\n",
    "\n",
    "chain = prompt | llm | StrOutputParser()\n",
    "\n",
    "print(chain.invoke({\"query\": query, \"docs\": \"\\n\".join([result.page_content for result in results])}))\n",
    "print(\"-------------------\")\n",
    "print(f'Here are some episodes that might help you with \"{query}\":')\n",
    "episodes = set()\n",
    "for result in results:\n",
    "    episodes.add(f\"{result.metadata[\"title\"]} - {result.metadata[\"url\"]}\")\n",
    "print(\"\\n\".join(episodes))"
   ]
  }
 ],
 "metadata": {
  "kernelspec": {
   "display_name": "Python 3",
   "language": "python",
   "name": "python3"
  },
  "language_info": {
   "codemirror_mode": {
    "name": "ipython",
    "version": 3
   },
   "file_extension": ".py",
   "mimetype": "text/x-python",
   "name": "python",
   "nbconvert_exporter": "python",
   "pygments_lexer": "ipython3",
   "version": "3.12.2"
  }
 },
 "nbformat": 4,
 "nbformat_minor": 2
}
