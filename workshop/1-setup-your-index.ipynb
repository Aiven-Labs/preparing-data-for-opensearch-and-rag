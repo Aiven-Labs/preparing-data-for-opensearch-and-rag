{
 "cells": [
  {
   "cell_type": "markdown",
   "metadata": {},
   "source": [
    "# Create your Index for Similarity Search\n",
    "\n",
    "![Converting our Plain Text Docs into chunked docs in an opensearch index](../img/txt-doc-to-os-docs.png)\n",
    "\n",
    "In order to ingest our transcriptions we need to prepare an opensearch index to store our data.\n",
    "\n",
    "In this workshop, we're ingesting ONLY [our transcription example](../transcripts/transcription_example.txt) but our opensearch index will have hundreds of documents and our final RAG Application will have tens of thousands of documents.\n",
    "\n",
    "---\n",
    "\n",
    "🔍 Let's examine the metadata of our document\n",
    "\n",
    "```yaml\n",
    "description: \"Do you have a grip on productivity? Are you worried that external factors could disrupt what you’re doing at any second? Time to put things in a VICE!\"\n",
    "pub_date: \"March 10th, 2022\"\n",
    "title: \"18: Putting External Factors in a VICE Grip \\U0001F5DC\"\n",
    "url: https://relay.fm/conduit/18\n",
    "```\n",
    "\n",
    "This information along with our `content` needs to be mapped out into an index.\n",
    "\n",
    "While all of the metadata is a string we want to setup our metadata to fit our needs which means `pub_date` should be a `date` value."
   ]
  },
  {
   "cell_type": "markdown",
   "metadata": {},
   "source": [
    "Let's start out by importing our environment variables and loading our imports. Then we'll establish our connection with our OpenSearch®️ service."
   ]
  },
  {
   "cell_type": "code",
   "execution_count": 6,
   "metadata": {},
   "outputs": [
    {
     "data": {
      "text/plain": [
       "{'name': 'os-ingest-pipeline-1',\n",
       " 'cluster_name': '7f3e86bd-beb8-4345-a473-259e346f5c14',\n",
       " 'cluster_uuid': '5AvgLkZ7T9KGTc_Z6V_ASA',\n",
       " 'version': {'distribution': 'opensearch',\n",
       "  'number': '2.11.1',\n",
       "  'build_type': 'unknown',\n",
       "  'build_hash': 'unknown',\n",
       "  'build_date': '2023-12-17T00:00Z',\n",
       "  'build_snapshot': False,\n",
       "  'lucene_version': '9.7.0',\n",
       "  'minimum_wire_compatibility_version': '7.10.0',\n",
       "  'minimum_index_compatibility_version': '7.0.0'},\n",
       " 'tagline': 'The OpenSearch Project: https://opensearch.org/'}"
      ]
     },
     "execution_count": 6,
     "metadata": {},
     "output_type": "execute_result"
    }
   ],
   "source": [
    "import os\n",
    "\n",
    "from dotenv import load_dotenv\n",
    "from opensearchpy import OpenSearch\n",
    "\n",
    "connection_string = os.getenv(\"OPENSEARCH_SERVICE_URI\")\n",
    "client = OpenSearch(connection_string, use_ssl=True, timeout=100)\n",
    "client.info()"
   ]
  },
  {
   "cell_type": "markdown",
   "metadata": {},
   "source": [
    "Next, let's define our mapping for this index. We know that our index will use _K-Nearest Neighbors_. This means that we need to enable it in the settings.\n",
    "\n",
    "We'll also provide the context around the vectors that we'll create. The `knn_vector` mapping will use dimension settings for [the model](https://huggingface.co/sentence-transformers/all-mpnet-base-v2) we're using.\n",
    "\n",
    "Finally, we'll create a date-match pattern that we'll use to convert our date to a format that can be used with OpenSearch®️."
   ]
  },
  {
   "cell_type": "code",
   "execution_count": 7,
   "metadata": {},
   "outputs": [],
   "source": [
    "\n",
    "index_settings = {\n",
    "        'settings': {\n",
    "            'index': {\n",
    "            \"knn\": True\n",
    "            },\n",
    "        },\n",
    "        \"mappings\": {\n",
    "            \"properties\": {\n",
    "            \"title\": {\"type\": \"text\"},\n",
    "            \"description\": {\"type\": \"text\"},\n",
    "            \"url\": {\"type\": \"keyword\"},\n",
    "            \"content\": {\"type\": \"text\"},\n",
    "            \"content_vector\": {\n",
    "                \"type\": \"knn_vector\",\n",
    "                \"dimension\": 768,\n",
    "                \"method\": {\n",
    "                    \"name\": \"hnsw\",\n",
    "                    \"space_type\": \"l2\",\n",
    "                    \"engine\": \"faiss\",\n",
    "                },\n",
    "            },\n",
    "            \"pub_date\": {\"type\": \"date\"},\n",
    "            }\n",
    "        }\n",
    "    }"
   ]
  },
  {
   "cell_type": "markdown",
   "metadata": {},
   "source": [
    "We'll wrap up with defining our index name and adding to our .env file."
   ]
  },
  {
   "cell_type": "code",
   "execution_count": 1,
   "metadata": {
    "vscode": {
     "languageId": "shellscript"
    }
   },
   "outputs": [],
   "source": [
    "!echo INDEX_NAME=\"embedded_transcripts\" >> .env"
   ]
  },
  {
   "cell_type": "code",
   "execution_count": 8,
   "metadata": {
    "vscode": {
     "languageId": "shellscript"
    }
   },
   "outputs": [
    {
     "data": {
      "text/plain": [
       "{'acknowledged': True,\n",
       " 'shards_acknowledged': True,\n",
       " 'index': 'embedded_transcripts'}"
      ]
     },
     "execution_count": 8,
     "metadata": {},
     "output_type": "execute_result"
    }
   ],
   "source": [
    "load_dotenv()\n",
    "index_name = os.getenv(\"INDEX_NAME\")\n",
    "client.indices.create(index=index_name, body=index_settings, ignore=400)\n"
   ]
  },
  {
   "cell_type": "markdown",
   "metadata": {},
   "source": [
    "In this notebook we created our OpenSearch®️ index. We looked at the metadata and made sure that the values matched.\n",
    "\n",
    "In the next notebook we'll split our documents to fit our vectorization model and generate embeddings.\n",
    "\n",
    "Move onto the [next notebook](2-chunk-segment-ingest.ipynb) or push the button below\n",
    "\n",
    "[![Chunk and Ingest your Data](https://img.shields.io/badge/1-Chunk%20and%20Ingest%20Your%20Docs-153a5a?style=for-the-badge&labelColor=ec6147)](1-setup-your-index.ipynb)\n"
   ]
  }
 ],
 "metadata": {
  "kernelspec": {
   "display_name": "Python 3",
   "language": "python",
   "name": "python3"
  },
  "language_info": {
   "codemirror_mode": {
    "name": "ipython",
    "version": 3
   },
   "file_extension": ".py",
   "mimetype": "text/x-python",
   "name": "python",
   "nbconvert_exporter": "python",
   "pygments_lexer": "ipython3",
   "version": "3.12.2"
  }
 },
 "nbformat": 4,
 "nbformat_minor": 2
}
