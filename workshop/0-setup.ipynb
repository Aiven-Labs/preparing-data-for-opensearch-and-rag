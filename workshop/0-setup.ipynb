{
 "cells": [
  {
   "cell_type": "markdown",
   "metadata": {},
   "source": [
    "## Create an Aiven Account\n",
    "\n",
    "If haven't created an account, you can create a free trial with <https://go.aiven.io/ft-signup-kafka-python>, using the free trial. \n",
    "\n",
    "### Create an Aiven for OpenSearch®️ Service\n",
    "\n",
    "Next we'll create our OpenSearch Service:\n",
    "\n",
    "* Open the [Aiven Console](https://console.aiven.io)\n",
    "* Click on **Create service**\n",
    "* Select **OpenSearch®️**\n",
    "* Select the cloud vendor and region of your choice\n",
    "* Select a **Business-4** plan would be enough\n",
    "* Click on **Create service**"
   ]
  },
  {
   "cell_type": "markdown",
   "metadata": {},
   "source": [
    "## Copy the **Service URI** into a `.env` file\n",
    "\n",
    "This is how our notebooks will connect to our environment.\n",
    "\n",
    "Copy the **SERVICE_URI** from the **Connection Information**\n",
    "\n",
    "![SERVICE_URI](../img/opensearch-service-uri.png)\n",
    "\n",
    "Replace `<REPLACE_WITH_YOUR_URI>` in the block below and run the block to create your .env file"
   ]
  },
  {
   "cell_type": "code",
   "execution_count": 3,
   "metadata": {
    "vscode": {
     "languageId": "shellscript"
    }
   },
   "outputs": [],
   "source": [
    "!echo \"OPENSEARCH_SERVICE_URI=<REPLACE_WITH_YOUR_URI>\" > .env"
   ]
  },
  {
   "cell_type": "markdown",
   "metadata": {},
   "source": [
    "In this notebook we created our Aiven for OpenSearch®️ services. We also copied our credentials and stored them in our project.\n",
    "\n",
    "In the next notebook we'll examine our data and prepare our Opensearch index for similarity search.\n",
    "\n",
    "Move onto the [next notebook](1-setup-your-index.ipynb) or push the button below\n",
    "\n",
    "[![Setup your OpenSearch®️ Index](https://img.shields.io/badge/1-Setup%20Your%20Opensearch%20Index-153a5a?style=for-the-badge&labelColor=ec6147)](1-setup-your-index.ipynb)\n"
   ]
  }
 ],
 "metadata": {
  "kernelspec": {
   "display_name": "Python 3",
   "language": "python",
   "name": "python3"
  },
  "language_info": {
   "codemirror_mode": {
    "name": "ipython",
    "version": 3
   },
   "file_extension": ".py",
   "mimetype": "text/x-python",
   "name": "python",
   "nbconvert_exporter": "python",
   "pygments_lexer": "ipython3",
   "version": "3.12.2"
  }
 },
 "nbformat": 4,
 "nbformat_minor": 2
}
